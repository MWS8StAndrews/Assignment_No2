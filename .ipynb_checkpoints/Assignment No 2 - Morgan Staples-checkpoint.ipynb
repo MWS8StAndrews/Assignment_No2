{
 "cells": [
  {
   "cell_type": "markdown",
   "id": "9e23b9bc-94b0-49f4-b80d-3a324974c0db",
   "metadata": {},
   "source": [
    "# **Lab Assignment 2 - Morgan Staples**\n",
    "## 180016968\n",
    "https://github.com/MWS8StAndrews/PY4SA23_Assignment"
   ]
  },
  {
   "cell_type": "markdown",
   "id": "f7c3b143-b1d3-422c-ba2d-78d96d7083cf",
   "metadata": {},
   "source": [
    "# **Python Basics**\n",
    "## **Task 1**\n",
    "### An If...Else statement was created to test whether a number is divisible by 3. The number 303 was tested and was found to be divisible by three. The statement \"303 is divisible by three\" was then printed."
   ]
  },
  {
   "cell_type": "code",
   "execution_count": null,
   "id": "ebde2c66-d59a-44c8-ac1e-204864818439",
   "metadata": {},
   "outputs": [],
   "source": [
    "x = 303\n",
    "if(x%3==0):\n",
    "    print (str(x) + \" is divisible by three\")\n",
    "else:\n",
    "    print (str(x) + \" is not divisible by three\")"
   ]
  },
  {
   "cell_type": "markdown",
   "id": "afc57bc5-eb58-4eed-bd48-1e8b27105755",
   "metadata": {},
   "source": [
    "## **Task 2**\n",
    "### Another If...Else Statement was created that tested if a type of fruit was on a list of acceptable fruit. Mango was tested and since mango is not on the list of acceptable fruit the result \"mango is not acceptable\" was printed."
   ]
  },
  {
   "cell_type": "code",
   "execution_count": null,
   "id": "d91e598a-c6e4-4d4d-af72-2e072a110681",
   "metadata": {},
   "outputs": [],
   "source": [
    "x = \"mango\"\n",
    "fruitlst = [\"apple\", \"orange\", \"pear\", \"kiwi\", \"strawberry\"]\n",
    "result = fruitlst.count(x)\n",
    "if result > 0:\n",
    "    print (x + \" is acceptable\")\n",
    "else:\n",
    "    print (x + \" is not acceptable\")"
   ]
  },
  {
   "cell_type": "markdown",
   "id": "8991fdee-1db5-41f8-a85b-49749625db71",
   "metadata": {},
   "source": [
    "## **Task 3**\n",
    "### Math was imported and from math sqrt, sin, cos, atan2, and radians were imported. A function was created to calculate the distance between two coordinates using the haversine formula. After the formula was created different coordinates could be imputed to calculate the distance between locations.The coordinates of the Empire State building and Alcatraz island were used."
   ]
  },
  {
   "cell_type": "code",
   "execution_count": null,
   "id": "1afb5a61-c1be-4c4c-8d1a-c5843b041144",
   "metadata": {},
   "outputs": [],
   "source": [
    "import math\n",
    "from math import sqrt, sin, cos, atan2, radians\n",
    "def haversine(coord1:object, coord2:object):\n",
    "    \n",
    "    lon1, lat1 = coord1\n",
    "    lon2, lat2 = coord2\n",
    "    phi_1 = math.radians(lat1)\n",
    "    phi_2 = math.radians(lat2)\n",
    "    delta_phi = math.radians(lat2 - lat1)\n",
    "    delta_lambda = math.radians(lon2 - lon1)\n",
    "    \n",
    "    a = math.sin(delta_phi / 2.0) ** 2 + math.cos(phi_1) * math.cos(phi_2) * math.sin(delta_lambda / 2.0) ** 2\n",
    "    c = 2 * math.atan2(math.sqrt(a), math.sqrt(1 - a))\n",
    "    R = 6371\n",
    "    return R * c\n",
    "\n",
    "coord1 = 40.748817,-73.985428\n",
    "coord2 = 37.828125,-122.422844\n",
    "print(haversine(coord1,coord2))"
   ]
  },
  {
   "cell_type": "markdown",
   "id": "6cae244f-0630-420d-8afd-f425d49562f7",
   "metadata": {},
   "source": [
    "# **Pandas and NumPy**\n",
    "## **Question 1**\n",
    "### Using Pandas we can read the portland_park_trees.csv file. Subsets were created that identified the trees that are of the Quercus and Acer genus. The subsets were combined to create a subset that identified trees that belonged to the Quercus or Acer Genus. The len() function was then used to identify the number of rows and therefore trees that belonged to Quercus or Acer. This gave the answer 5675."
   ]
  },
  {
   "cell_type": "code",
   "execution_count": null,
   "id": "5e97a232-4972-4eb5-8713-215b94ca992d",
   "metadata": {},
   "outputs": [],
   "source": [
    "import pandas as pd\n",
    "\n",
    "trees_df = pd.read_csv(\"data/portland_park_trees.csv\", sep=\",\", header=0, encoding=\"ISO-8859-1\")\n",
    "\n",
    "Quercus_only = trees_df[trees_df[\"Genus\"]==\"Quercus\"]\n",
    "Acer_only = trees_df[trees_df[\"Genus\"]==\"Acer\"]\n",
    "Quercus_and_Acer = Quercus_only + Acer_only\n",
    "\n",
    "print(len(Quercus_and_Acer))"
   ]
  },
  {
   "cell_type": "markdown",
   "id": "95437a40-abcd-4541-9d81-70e716cca8da",
   "metadata": {},
   "source": [
    "## **Question 2**\n",
    "### Using the same data from the previous question subsets were created for trees that belonged to the Quercus genus and have a DBH larger than 50 inches. This process was repeated for the Acer genus and then the two subsets were combined. This gave the answer that there are 124 trees of the Quercus or Acer genus that have a DBH larger than 50 inches."
   ]
  },
  {
   "cell_type": "code",
   "execution_count": null,
   "id": "c4cd1c83-ae07-4ca0-b370-db2233656529",
   "metadata": {},
   "outputs": [],
   "source": [
    "large_Quercus = trees_df[(trees_df[\"Genus\"]==\"Quercus\") & (trees_df[\"DBH\"]>50)]\n",
    "large_Acer = trees_df[(trees_df[\"Genus\"]==\"Acer\") & (trees_df[\"DBH\"]>50)]\n",
    "\n",
    "large_Quercus_and_Acer = large_Quercus + large_Acer\n",
    "\n",
    "print(len(large_Quercus_and_Acer))"
   ]
  },
  {
   "cell_type": "markdown",
   "id": "645adaec-a4de-404e-bf34-4797cf97d307",
   "metadata": {},
   "source": [
    "## **Question 3**\n",
    "### Firstly a subset was created for the Fraxinus genus. Then a formula was created that would calculate the mean for each of the 3 different genus. The results were then published. From the results we can see that Quercus has the highest mean DBH. Quercus had a mean DBH of 23.6 inches, Acer had a mean DBH of 18.4 inches and Fraxinus had a mean DBH of 11 inches."
   ]
  },
  {
   "cell_type": "code",
   "execution_count": null,
   "id": "42dcd7e8-133c-48f8-83e3-b9bc5d7459eb",
   "metadata": {},
   "outputs": [],
   "source": [
    "Fraxinus_only = trees_df[trees_df[\"Genus\"]==\"Fraxinus\"]\n",
    "\n",
    "Quercus_Mean = Quercus_only[\"DBH\"].mean()\n",
    "Acer_Mean = Acer_only[\"DBH\"].mean()\n",
    "Fraxinus_Mean = Fraxinus_only[\"DBH\"].mean()\n",
    "\n",
    "print(Quercus_Mean)\n",
    "print(Acer_Mean)\n",
    "print(Fraxinus_Mean)"
   ]
  },
  {
   "cell_type": "markdown",
   "id": "061a8272-c292-4b1c-84e2-9c801b71d137",
   "metadata": {},
   "source": [
    "## **Question 4**\n",
    "### A value count was used to count the amount of different species that belonged to the Acer genus. The result was then printed, which gave the answer 20."
   ]
  },
  {
   "cell_type": "code",
   "execution_count": null,
   "id": "f5ef2a57-ccd8-4d24-b7f7-1b27329ccf33",
   "metadata": {},
   "outputs": [],
   "source": [
    "Acer_difspecies = Acer_only[\"Genus_spec\"].value_counts().shape[0]\n",
    "print(Acer_difspecies)"
   ]
  },
  {
   "cell_type": "markdown",
   "id": "5d62c6e3-919b-4eb8-872c-195489a71ccb",
   "metadata": {},
   "source": [
    "## **Question 5**\n",
    "### Firstly, pandas was used to read the file \"world_cities.csv\"."
   ]
  },
  {
   "cell_type": "markdown",
   "id": "675c4568-b4a6-4ec8-9073-c6550a0b3b3e",
   "metadata": {},
   "source": [
    "cities_df = pd.read_csv(\"data/world_cities.csv\", sep=\",\", header=0, encoding=\"ISO-8859-1\")"
   ]
  },
  {
   "cell_type": "markdown",
   "id": "640de70a-332a-4d46-8e0f-9945b2a39248",
   "metadata": {},
   "source": [
    "### A new column was created for population in millions. To convert the existing populations into millions the values had to be divided by 1000000."
   ]
  },
  {
   "cell_type": "code",
   "execution_count": null,
   "id": "4035003e-cbf1-41d3-a9fd-71689c761d93",
   "metadata": {},
   "outputs": [],
   "source": [
    "cities_df[\"pop_M\"] = cities_df[\"pop\"] / 1000000"
   ]
  },
  {
   "cell_type": "markdown",
   "id": "56364f8e-9193-4734-bee0-a6d83283ec55",
   "metadata": {},
   "source": [
    "### The existing population column was then deleted."
   ]
  },
  {
   "cell_type": "code",
   "execution_count": null,
   "id": "d0b11edf-d4be-4dc9-911b-d22162917a88",
   "metadata": {},
   "outputs": [],
   "source": [
    "del cities_df[\"pop\"]"
   ]
  },
  {
   "cell_type": "markdown",
   "id": "b92513c9-7dac-4195-8673-5279319712c9",
   "metadata": {},
   "source": [
    "### Since my name begins with the letter M, I subsetted the city Mombasa. This result was then printed to identify the country that Mombasa was located in. The answer was Kenya."
   ]
  },
  {
   "cell_type": "code",
   "execution_count": null,
   "id": "552ef1a3-940d-4b7a-a1aa-8d303f2cc592",
   "metadata": {},
   "outputs": [],
   "source": [
    "just_Mombasa = cities_df[cities_df[\"city\"]==\"Mombasa\"]\n",
    "print (just_Mombasa)"
   ]
  },
  {
   "cell_type": "markdown",
   "id": "6f28ba79-3c0c-4ba2-b42a-d6069ae6ef0d",
   "metadata": {},
   "source": [
    "### The 5 cities with the largest populations in Kenya were subsetted using sort_values and .head(5). The results were then printed which told us that Nairobi, Mombasa, Nakuru, Eldoret and Kisumu were the 5 cities with the largest populations."
   ]
  },
  {
   "cell_type": "code",
   "execution_count": null,
   "id": "559692a9-df79-4217-bdbc-0cdc994e0ee9",
   "metadata": {},
   "outputs": [],
   "source": [
    "Kenya_cities = cities_df[cities_df[\"country\"]==\"Kenya\"]\n",
    "Kenya_cities_top5 = Kenya_cities.sort_values(\"pop_M\", ascending=False).head(5)\n",
    "print(Kenya_cities_top5)"
   ]
  },
  {
   "cell_type": "markdown",
   "id": "c3b0d6b8-2af0-483c-9ab2-2f4d3655ed1d",
   "metadata": {},
   "source": [
    "# **Python Data Visualisation**\n",
    "## **Graph 1**\n",
    "### seaborn was imported in order to create charts. A subset was created that just contained trees of the Ulmus Genus. .scatterplot was used to create a scatterplot with DBH along the x axis and Treeheight along the y axis."
   ]
  },
  {
   "cell_type": "code",
   "execution_count": null,
   "id": "ad8a00b0-886d-4e23-a9b6-4aed0cc7261e",
   "metadata": {},
   "outputs": [],
   "source": [
    "import seaborn as sns\n",
    "Ulmus_only = trees_df[trees_df[\"Genus\"]==\"Ulmus\"]\n",
    "sns.scatterplot(x=\"DBH\", y=\"TreeHeight\", data=Ulmus_only)"
   ]
  },
  {
   "cell_type": "markdown",
   "id": "d99423ae-1d65-4ccc-a009-904d9fbf1e18",
   "metadata": {},
   "source": [
    "## Graph 2\n",
    "### Using a similar process to Graph 1 a second scatterplot was created. This time .relplot was used. The x and y axis remained DBH and Treeheight but this time Genus_spec was added as the hue."
   ]
  },
  {
   "cell_type": "code",
   "execution_count": null,
   "id": "809c6d62-e6ca-4904-be6d-36f92121429a",
   "metadata": {},
   "outputs": [],
   "source": [
    "sns.relplot(x=\"DBH\", y=\"TreeHeight\", hue=\"Genus_spec\", data=Ulmus_only)"
   ]
  },
  {
   "cell_type": "markdown",
   "id": "0ed85846-28af-4d78-85d6-e58e7d6cb0f1",
   "metadata": {},
   "source": [
    "## **Graph 3**\n",
    "### By changing the figsize the size of the figure could be controlled. .boxplot was used with Species as the x axis and DBH as the y axis. This created 9 boxplots, one for each species of tree within the genus Ulmus."
   ]
  },
  {
   "cell_type": "code",
   "execution_count": null,
   "id": "d14b283f-d75e-4c80-9c93-e74c16ec5b90",
   "metadata": {},
   "outputs": [],
   "source": [
    "plt.figure(figsize =(12, 10))\n",
    "sns.boxplot(data=Ulmus_only, x='Species', y='DBH')\n",
    "plt.show()"
   ]
  },
  {
   "cell_type": "markdown",
   "id": "118a085c-9293-4acd-bc0c-5623dac17e6d",
   "metadata": {},
   "source": [
    "## **Graph 4**\n",
    "### The scatterplot from Graph 1 and the boxplot from Graph 3 where combined into one figure. Firstly the amount of different graphs had to be inputted, in this case 2. The scatterplot was assigned to axs[0] and was given a title. The boxplot was then assigned to axs[1] and given a title. By then using plt.show() the two graphs were combined onto the same figure."
   ]
  },
  {
   "cell_type": "code",
   "execution_count": null,
   "id": "f325b332-a4f6-496c-9d33-251add7375ba",
   "metadata": {},
   "outputs": [],
   "source": [
    "fig, axs = plt.subplots(ncols=2)\n",
    "\n",
    "sns.set(rc={\"figure.figsize\":(10, 16)})\n",
    "\n",
    "sns.scatterplot(data=Ulmus_only, x=\"DBH\", y=\"TreeHeight\", ax=axs[0])\n",
    "axs[0].set_title(\"DBH and Tree Height of trees within the Ulmus Genus\")\n",
    "\n",
    "sns.boxplot(data=Ulmus_only, x=\"Species\", y=\"DBH\", ax=axs[1])\n",
    "axs[1].set_title(\"DBH by Species of the Ulmus Genus\")\n",
    "\n",
    "plt.show()"
   ]
  },
  {
   "cell_type": "markdown",
   "id": "a305fa7b-80fe-4820-b3ce-ba8705218629",
   "metadata": {},
   "source": [
    "# **Python GeoPandas**\n",
    "## **Task 1**\n",
    "### SG_SIMD_2020.shp was downloaded from the Spatial Data Portal of Scotland and saved in the Data folder. Geopandas was imported and then used to read the file \"SG_SIMD_2020.shp\"."
   ]
  },
  {
   "cell_type": "code",
   "execution_count": null,
   "id": "f462fab1-9399-4a60-aee9-11696a937a94",
   "metadata": {},
   "outputs": [],
   "source": [
    "import geopandas as gpd\n",
    "\n",
    "simd_geo = gpd.read_file('data/SG_SIMD_2020/SG_SIMD_2020.shp')"
   ]
  },
  {
   "cell_type": "markdown",
   "id": "2a5c826c-4df7-4f6c-8906-2c6072075db4",
   "metadata": {},
   "source": [
    "## **Task 2**\n",
    "### numpy and matplotlib were both imported. small_simd_geo was created from simd_geo by removing some of the columns. This was done in an attempt to reduce file sizes. .head(5) was then run which showed the first 5 sets of records."
   ]
  },
  {
   "cell_type": "code",
   "execution_count": null,
   "id": "369ac0b4-24f4-4985-9a55-07a4b656ff00",
   "metadata": {},
   "outputs": [],
   "source": [
    "import numpy as np\n",
    "import matplotlib.pyplot as plt\n",
    "%matplotlib inline\n",
    "\n",
    "small_simd_geo = simd_geo[[\"DataZone\", \"DZName\", \"LAName\", \"Quintilev2\", \"CrimeRate\", \"CrimeRank\", \"Shape_Area\", \"geometry\"]]\n",
    "\n",
    "small_simd_geo.head(5)"
   ]
  },
  {
   "cell_type": "markdown",
   "id": "26d5095e-8465-409f-9596-a7398fb6e5ea",
   "metadata": {},
   "source": [
    "### .tail(5) was then run to show the last 5 sets of records in the dataset."
   ]
  },
  {
   "cell_type": "code",
   "execution_count": null,
   "id": "41e22a34-48a8-4e3d-af05-3367074d4533",
   "metadata": {},
   "outputs": [],
   "source": [
    "small_simd_geo.tail(5)"
   ]
  },
  {
   "cell_type": "markdown",
   "id": "ce0482f2-b676-40ab-ab15-d92690a5f6b3",
   "metadata": {},
   "source": [
    "## **Task 3**\n",
    "### .explore was the run on small_simd_geo with column as LAName and the cmap as YlGn. This created a map that could be explored."
   ]
  },
  {
   "cell_type": "code",
   "execution_count": null,
   "id": "848248b8-982a-41fe-9c5c-c54b6f698992",
   "metadata": {},
   "outputs": [],
   "source": [
    "small_simd_geo.explore(column=\"LAName\", cmap=\"YlGn\",)"
   ]
  },
  {
   "cell_type": "markdown",
   "id": "199fe075-9129-444f-8bd8-76c88b900143",
   "metadata": {},
   "source": [
    "## **Task 4**\n",
    "### .crs was then used on small_simd_geo, this revelaed that the CRS was EPSG:27700"
   ]
  },
  {
   "cell_type": "code",
   "execution_count": null,
   "id": "56cb5fb3-4df8-420b-8e13-e419c40677bb",
   "metadata": {},
   "outputs": [],
   "source": [
    "small_simd_geo.crs"
   ]
  },
  {
   "cell_type": "markdown",
   "id": "932008bd-9590-46af-ab6b-9d7bae310ec1",
   "metadata": {},
   "source": [
    "## **Task 5**\n",
    "### .shape was then used to reveal the amount of features in the dataset. The dataset had 6976 rows and 8 columns."
   ]
  },
  {
   "cell_type": "code",
   "execution_count": null,
   "id": "56699f1d-bfed-432b-944e-2be05bb03349",
   "metadata": {},
   "outputs": [],
   "source": [
    "small_simd_geo.shape"
   ]
  },
  {
   "cell_type": "markdown",
   "id": "34142cae-9101-465b-b5bf-e7987ae85a0e",
   "metadata": {},
   "source": [
    "## **Task 6**\n",
    "### categorical_simd was created using a sub-setting criterion where the dataset was filtered using the query that LAName had to equal Stirling. LAName was a categorical attribute."
   ]
  },
  {
   "cell_type": "code",
   "execution_count": null,
   "id": "cd441f31-126e-476d-b4b7-b1c73452f847",
   "metadata": {},
   "outputs": [],
   "source": [
    "categorical_simd = small_simd_geo[[\"DataZone\",\"DZName\", \"LAName\", \"Quintilev2\", \"CrimeRate\", \"CrimeRank\", \"Shape_Area\", \"geometry\"]]\n",
    "index_simd = categorical_simd['LAName'] == 'Stirling'\n",
    "categorical_simd = categorical_simd[index_simd]\n",
    "categorical_simd"
   ]
  },
  {
   "cell_type": "markdown",
   "id": "9ef1bbd8-b6f2-47df-9c4f-cc4eed25946c",
   "metadata": {},
   "source": [
    "## **Task 7**\n",
    "### numerical_simd was created using a sub-setting criterion where the dataset was filtered using the query that CrimeRate had to be more than 300. CrimeRate was a numerical attribute."
   ]
  },
  {
   "cell_type": "code",
   "execution_count": null,
   "id": "00995dee-4f7b-40ba-be3c-ae42a0759aeb",
   "metadata": {},
   "outputs": [],
   "source": [
    "numerical_simd = small_simd_geo[[\"DataZone\",\"DZName\", \"LAName\", \"Quintilev2\", \"CrimeRate\", \"CrimeRank\", \"Shape_Area\", \"geometry\"]]\n",
    "index_simd = numerical_simd['CrimeRate'] > 300\n",
    "numerical_simd = numerical_simd[index_simd]\n",
    "numerical_simd"
   ]
  },
  {
   "cell_type": "markdown",
   "id": "a0869d72-3416-45bf-bf46-f36c0fc2f2a2",
   "metadata": {},
   "source": [
    "## **Task 8**\n",
    "### categorical_simd.plot was then run, with CrimeRate in the column and RdYlBu in the cmap. A legend was also added. This created the map that can be seen below."
   ]
  },
  {
   "cell_type": "code",
   "execution_count": null,
   "id": "4581e40d-997e-46a3-9b7b-1a81ec46b75c",
   "metadata": {},
   "outputs": [],
   "source": [
    "plt.rcParams['figure.figsize'] = [10, 9]\n",
    "fig, ax = plt.subplots(1, 1)\n",
    "categorical_simd.plot(column=\"CrimeRate\", cmap=\"RdYlBu\", ax=ax, legend=True, legend_kwds={'label': \"CrimeRate\", 'orientation': \"vertical\"})"
   ]
  },
  {
   "cell_type": "markdown",
   "id": "810d2abe-37ca-4d51-97d1-09674ca772ec",
   "metadata": {},
   "source": [
    "# **Python Rasterio**\n",
    "## **Task 1**\n",
    "### Rasterio was imported and from rasterio plot was imported. Rasterio was the used to open elev.tif."
   ]
  },
  {
   "cell_type": "code",
   "execution_count": null,
   "id": "8daf0bd0-645c-4e78-95c5-2a9077c492b3",
   "metadata": {},
   "outputs": [],
   "source": [
    "import rasterio as rio\n",
    "from rasterio import plot\n",
    "\n",
    "elev = rio.open('data/elev.tif')"
   ]
  },
  {
   "cell_type": "markdown",
   "id": "54974099-9429-4120-be65-805f60416624",
   "metadata": {},
   "source": [
    "## **Task 2**\n",
    "### print(elev.crs) was used to reveal that the crs of the dataset was EPSG:32617."
   ]
  },
  {
   "cell_type": "code",
   "execution_count": null,
   "id": "68a621df-3dfb-44f4-9f8c-8a4acba92e0e",
   "metadata": {},
   "outputs": [],
   "source": [
    "print(elev.crs)"
   ]
  },
  {
   "cell_type": "markdown",
   "id": "a67515da-5894-4b3b-871e-dcbef7ca0deb",
   "metadata": {},
   "source": [
    "## **Task 3**\n",
    "### Print(elev.bounds) was used to reveal the raster extent, print(elev.crs) was used to reveal the reference system and print(elev.count) was used to reveal how many bands were in the dataset. print(\" \") was used to create spaces and make the answers easier to read."
   ]
  },
  {
   "cell_type": "code",
   "execution_count": null,
   "id": "44de8e6d-6dd8-4665-b0cb-8f742edf0fb2",
   "metadata": {},
   "outputs": [],
   "source": [
    "print(elev.bounds)\n",
    "print(\" \")\n",
    "print(elev.crs)\n",
    "print(\" \")\n",
    "print(elev.count)"
   ]
  },
  {
   "cell_type": "markdown",
   "id": "0904db09-d648-4a5f-9cd6-2ec1a1156e3f",
   "metadata": {},
   "source": [
    "## **Task 4**\n",
    "### Firstly, the raster data was written to memory as a NumPy array."
   ]
  },
  {
   "cell_type": "code",
   "execution_count": null,
   "id": "0632aadc-c3a8-4ee0-9abf-062a671b6e18",
   "metadata": {},
   "outputs": [],
   "source": [
    "elev_arr = elev.read(1, masked = True)\n",
    "elev_arr"
   ]
  },
  {
   "cell_type": "markdown",
   "id": "a8c4de02-2af1-411f-99cb-76a64067d1a6",
   "metadata": {},
   "source": [
    "### A masked_array was created to hide all the values that were equal to 0."
   ]
  },
  {
   "cell_type": "code",
   "execution_count": null,
   "id": "a70c0869-1b82-451c-b488-a5a24f4e503d",
   "metadata": {},
   "outputs": [],
   "source": [
    "image_read_masked = np.ma.masked_array(elev_arr, mask=(elev_arr == 0))"
   ]
  },
  {
   "cell_type": "markdown",
   "id": "23b1edae-dd35-4ea7-b440-4a0c0afd9647",
   "metadata": {},
   "source": [
    "### plt.imshow was then used to map image_read_masked and display the data. gist_earth was chosen as the cmap. This created the image below."
   ]
  },
  {
   "cell_type": "code",
   "execution_count": null,
   "id": "574ecc11-6eef-4f2f-80bc-b6f7b2b5b1e2",
   "metadata": {},
   "outputs": [],
   "source": [
    "plt.rcParams['figure.figsize'] = [10, 8]\n",
    "plt.imshow(image_read_masked, cmap=\"gist_earth\")"
   ]
  },
  {
   "cell_type": "markdown",
   "id": "178ef487-6568-494a-8be9-cb9fcb0bde53",
   "metadata": {},
   "source": [
    "## **Task 5**\n",
    "### pip install earthpy was run to install a new package."
   ]
  },
  {
   "cell_type": "code",
   "execution_count": null,
   "id": "564990ba-1f73-478d-b9f2-70a31b4b6e74",
   "metadata": {},
   "outputs": [],
   "source": [
    "pip install earthpy"
   ]
  },
  {
   "cell_type": "markdown",
   "id": "6fc8214a-56a4-4788-b9e6-ab6e5ea2646e",
   "metadata": {},
   "source": [
    "### Once the new package was installed new libraries could be imported. earthpy, earthpy.spatial and earthpy.plot were all imported. ep.hist was then run which created a histogram using image_read_masked."
   ]
  },
  {
   "cell_type": "code",
   "execution_count": null,
   "id": "5fdc58d4-d014-4bf4-8c52-7322370dcd00",
   "metadata": {},
   "outputs": [],
   "source": [
    "import earthpy as et\n",
    "import earthpy.spatial as es\n",
    "import earthpy.plot as ep\n",
    "\n",
    "ep.hist(image_read_masked, figsize=(8,8), title=\"Raster_Histogram\")"
   ]
  },
  {
   "cell_type": "code",
   "execution_count": null,
   "id": "d9b6d5df-b353-415c-b079-7f339ea7b5e2",
   "metadata": {},
   "outputs": [],
   "source": []
  }
 ],
 "metadata": {
  "kernelspec": {
   "display_name": "Python 3 (ipykernel)",
   "language": "python",
   "name": "python3"
  },
  "language_info": {
   "codemirror_mode": {
    "name": "ipython",
    "version": 3
   },
   "file_extension": ".py",
   "mimetype": "text/x-python",
   "name": "python",
   "nbconvert_exporter": "python",
   "pygments_lexer": "ipython3",
   "version": "3.10.9"
  }
 },
 "nbformat": 4,
 "nbformat_minor": 5
}
